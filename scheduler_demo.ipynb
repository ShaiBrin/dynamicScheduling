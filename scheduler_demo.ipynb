{
 "cells": [
  {
   "cell_type": "code",
   "execution_count": 7,
   "metadata": {},
   "outputs": [
    {
     "name": "stdout",
     "output_type": "stream",
     "text": [
      "Available Maids: []\n"
     ]
    }
   ],
   "source": [
    "from src.utils.loader import load_maids, load_services, load_schedules\n",
    "from src.utils.queries import find_maid_by_service, get_maid_schedule\n",
    "\n",
    "maids = load_maids(\"data/maids.csv\")\n",
    "services = load_services(\"data/services.csv\")\n",
    "schedules = load_schedules(\"data/schedules.csv\")\n",
    "\n",
    "print(\"Available Maids:\", find_maid_by_service(maids, \"kitchen\", \"Laval\"))\n",
    "\n"
   ]
  }
 ],
 "metadata": {
  "kernelspec": {
   "display_name": "venv",
   "language": "python",
   "name": "python3"
  },
  "language_info": {
   "codemirror_mode": {
    "name": "ipython",
    "version": 3
   },
   "file_extension": ".py",
   "mimetype": "text/x-python",
   "name": "python",
   "nbconvert_exporter": "python",
   "pygments_lexer": "ipython3",
   "version": "3.13.0"
  }
 },
 "nbformat": 4,
 "nbformat_minor": 2
}
